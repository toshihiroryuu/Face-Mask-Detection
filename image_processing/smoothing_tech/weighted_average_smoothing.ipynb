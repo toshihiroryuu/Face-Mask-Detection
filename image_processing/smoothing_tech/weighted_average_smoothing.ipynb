{
 "cells": [
  {
   "cell_type": "markdown",
   "metadata": {},
   "source": [
    "# Smoothing - Weighted Average"
   ]
  },
  {
   "cell_type": "code",
   "execution_count": 1,
   "metadata": {},
   "outputs": [
    {
     "data": {
      "text/plain": [
       "['.ipynb_checkpoints', 'canny_edge.ipynb', 'input']"
      ]
     },
     "execution_count": 1,
     "metadata": {},
     "output_type": "execute_result"
    }
   ],
   "source": [
    "import os\n",
    "\n",
    "os.listdir()"
   ]
  },
  {
   "cell_type": "code",
   "execution_count": 2,
   "metadata": {},
   "outputs": [
    {
     "data": {
      "text/plain": [
       "['maksssksksss140.png',\n",
       " 'maksssksksss17.png',\n",
       " 'maksssksksss271.png',\n",
       " 'maksssksksss324.png',\n",
       " 'maksssksksss348.png',\n",
       " 'maksssksksss48.png',\n",
       " 'maksssksksss513.png',\n",
       " 'maksssksksss532.png',\n",
       " 'maksssksksss55.png',\n",
       " 'maksssksksss640.png',\n",
       " 'maksssksksss69.png',\n",
       " 'maksssksksss813.png',\n",
       " 'maksssksksss832.png',\n",
       " 'maksssksksss843.png']"
      ]
     },
     "execution_count": 2,
     "metadata": {},
     "output_type": "execute_result"
    }
   ],
   "source": [
    "import glob\n",
    "\n",
    "image_list = []\n",
    "for name in glob.glob('./input/*.png'):\n",
    "    image_list.append(name[8:])\n",
    "    \n",
    "image_list"
   ]
  },
  {
   "cell_type": "code",
   "execution_count": 3,
   "metadata": {},
   "outputs": [],
   "source": [
    "import cv2\n",
    "\n",
    "def rgb_to_grey(img):\n",
    "    grey = cv2.cvtColor(img, cv2.COLOR_BGR2GRAY)\n",
    "\n",
    "    return grey"
   ]
  },
  {
   "cell_type": "code",
   "execution_count": 4,
   "metadata": {},
   "outputs": [],
   "source": [
    "import cv2\n",
    "import numpy as np\n",
    "from PIL import Image\n",
    "import statistics \n",
    "\n",
    "def get_waverage(dt_in):\n",
    "    \n",
    "    filter_h, filter_w = 3, 3\n",
    "\n",
    "    filter_coeff = [[1, 2, 1], \n",
    "                    [2, 4, 2], \n",
    "                    [1, 2, 1]]\n",
    "\n",
    "    pad_h, pad_w = int((filter_h-1)/2), int((filter_w-1)/2)\n",
    "\n",
    "    data_h = int(dt_in.shape[0]+ (2 * pad_h))\n",
    "    data_w = int(dt_in.shape[1] + (2 * pad_w))\n",
    "\n",
    "    data = np.zeros([data_h , data_w])\n",
    "\n",
    "    data[pad_h:int(data_h - pad_h), pad_w:int(data_w - pad_w)] = dt_in\n",
    "\n",
    "    out_lst = []\n",
    "    for i in range(dt_in.shape[0]):\n",
    "        for j in range(dt_in.shape[1]):\n",
    "            out_lst.append(np.sum((data[i:i + filter_h, j:j + filter_w])*filter_coeff)/(16))\n",
    "\n",
    "    array = np.reshape(out_lst, (dt_in.shape[0], dt_in.shape[1]))\n",
    "    array = np.array(array, dtype = np.uint8)\n",
    "    \n",
    "    return array"
   ]
  },
  {
   "cell_type": "code",
   "execution_count": 5,
   "metadata": {},
   "outputs": [
    {
     "name": "stdout",
     "output_type": "stream",
     "text": [
      "Directory ./output created successfully\n"
     ]
    }
   ],
   "source": [
    "path = \"./output\"\n",
    "\n",
    "try:\n",
    "    os.makedirs(path, exist_ok = True)\n",
    "    print(\"Directory \" + path + \" created successfully\")\n",
    "except OSError as error:\n",
    "    print(\"Directory \" + path + \" can not be created\")"
   ]
  },
  {
   "cell_type": "code",
   "execution_count": 7,
   "metadata": {},
   "outputs": [],
   "source": [
    "import cv2\n",
    "import numpy as np\n",
    "from PIL import Image\n",
    "import matplotlib.pyplot as plt\n",
    "\n",
    "for file_name in image_list:\n",
    "    image = cv2.imread(\"./input/\" + file_name)\n",
    "    dt_in = rgb_to_grey(image)\n",
    "    \n",
    "    array = get_waverage(dt_in)\n",
    "    dt_wavg = Image.fromarray(array,'L')\n",
    "    dt_wavg.save(\"./output/weiaverage_sm_\" + file_name)\n",
    "    print(\"weiaverage_sm_\" + file_name)\n",
    "#     dt_wavg.show()"
   ]
  },
  {
   "cell_type": "markdown",
   "metadata": {},
   "source": [
    "Contact me : www.athulmathew.com"
   ]
  }
 ],
 "metadata": {
  "kernelspec": {
   "display_name": "Python 3",
   "language": "python",
   "name": "python3"
  },
  "language_info": {
   "codemirror_mode": {
    "name": "ipython",
    "version": 3
   },
   "file_extension": ".py",
   "mimetype": "text/x-python",
   "name": "python",
   "nbconvert_exporter": "python",
   "pygments_lexer": "ipython3",
   "version": "3.8.3"
  }
 },
 "nbformat": 4,
 "nbformat_minor": 4
}
