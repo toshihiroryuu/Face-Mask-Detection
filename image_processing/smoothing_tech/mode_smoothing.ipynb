{
 "cells": [
  {
   "cell_type": "markdown",
   "metadata": {},
   "source": [
    "# Smoothing - Mode"
   ]
  },
  {
   "cell_type": "code",
   "execution_count": 1,
   "metadata": {},
   "outputs": [
    {
     "data": {
      "text/plain": [
       "['.ipynb_checkpoints', 'input', 'mode_smoothing.ipynb']"
      ]
     },
     "execution_count": 1,
     "metadata": {},
     "output_type": "execute_result"
    }
   ],
   "source": [
    "import os\n",
    "\n",
    "os.listdir()"
   ]
  },
  {
   "cell_type": "code",
   "execution_count": 2,
   "metadata": {},
   "outputs": [
    {
     "data": {
      "text/plain": [
       "['maksssksksss140.png',\n",
       " 'maksssksksss17.png',\n",
       " 'maksssksksss271.png',\n",
       " 'maksssksksss324.png',\n",
       " 'maksssksksss348.png',\n",
       " 'maksssksksss48.png',\n",
       " 'maksssksksss513.png',\n",
       " 'maksssksksss532.png',\n",
       " 'maksssksksss55.png',\n",
       " 'maksssksksss640.png',\n",
       " 'maksssksksss69.png',\n",
       " 'maksssksksss813.png',\n",
       " 'maksssksksss832.png',\n",
       " 'maksssksksss843.png']"
      ]
     },
     "execution_count": 2,
     "metadata": {},
     "output_type": "execute_result"
    }
   ],
   "source": [
    "import glob\n",
    "\n",
    "image_list = []\n",
    "for name in glob.glob('./input/*.png'):\n",
    "    image_list.append(name[8:])\n",
    "    \n",
    "image_list"
   ]
  },
  {
   "cell_type": "code",
   "execution_count": 3,
   "metadata": {},
   "outputs": [],
   "source": [
    "import cv2\n",
    "\n",
    "def rgb_to_grey(img):\n",
    "    grey = cv2.cvtColor(img, cv2.COLOR_BGR2GRAY)\n",
    "\n",
    "    return grey"
   ]
  },
  {
   "cell_type": "code",
   "execution_count": 4,
   "metadata": {},
   "outputs": [],
   "source": [
    "import numpy as np\n",
    "from PIL import Image\n",
    "import statistics \n",
    "\n",
    "def get_mode(dt):\n",
    "    mod_lst = []\n",
    "    for i in range(dt.shape[0]):\n",
    "        for j in range(dt.shape[1]):\n",
    "\n",
    "            if (i != 0 and i < dt.shape[0]-1) and (j != 0 and j< dt.shape[1]-1):\n",
    "\n",
    "                ngh_lst = [ dt[i-1][j-1], dt[i][j-1], dt[i+1][j-1], \n",
    "                           dt[i+1][j], dt[i+1][j+1], dt[i][j+1], \n",
    "                           dt[i-1][j+1], dt[i-1][j] ]\n",
    "\n",
    "                mode = statistics.mode(ngh_lst)\n",
    "                mod_lst.append(mode)\n",
    "\n",
    "            else:\n",
    "                mod_lst.append(dt[i][j])\n",
    "\n",
    "    array = np.reshape(mod_lst, (dt.shape[0], dt.shape[1]))\n",
    "    array = np.array(array, dtype = np.uint8)\n",
    "    return array"
   ]
  },
  {
   "cell_type": "code",
   "execution_count": 5,
   "metadata": {},
   "outputs": [
    {
     "name": "stdout",
     "output_type": "stream",
     "text": [
      "Directory ./output created successfully\n"
     ]
    }
   ],
   "source": [
    "path = \"./output\"\n",
    "\n",
    "try:\n",
    "    os.makedirs(path, exist_ok = True)\n",
    "    print(\"Directory \" + path + \" created successfully\")\n",
    "except OSError as error:\n",
    "    print(\"Directory \" + path + \" can not be created\")"
   ]
  },
  {
   "cell_type": "code",
   "execution_count": 6,
   "metadata": {},
   "outputs": [],
   "source": [
    "import cv2\n",
    "import numpy as np\n",
    "from PIL import Image\n",
    "import matplotlib.pyplot as plt\n",
    "\n",
    "for file_name in image_list:\n",
    "    image = cv2.imread(\"./input/\" + file_name)\n",
    "    dt_in = rgb_to_grey(image)\n",
    "    \n",
    "    array = get_mode(dt_in)\n",
    "    dt_mod = Image.fromarray(array,'L')\n",
    "    dt_mod.save(\"./output/mode_sm_\" + file_name)\n",
    "#     dt_mod.show()"
   ]
  },
  {
   "cell_type": "markdown",
   "metadata": {},
   "source": [
    "Contact me : www.athulmathew.com"
   ]
  }
 ],
 "metadata": {
  "kernelspec": {
   "display_name": "Python 3",
   "language": "python",
   "name": "python3"
  },
  "language_info": {
   "codemirror_mode": {
    "name": "ipython",
    "version": 3
   },
   "file_extension": ".py",
   "mimetype": "text/x-python",
   "name": "python",
   "nbconvert_exporter": "python",
   "pygments_lexer": "ipython3",
   "version": "3.8.3"
  }
 },
 "nbformat": 4,
 "nbformat_minor": 4
}
