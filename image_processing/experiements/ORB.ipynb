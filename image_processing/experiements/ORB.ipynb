{
 "cells": [
  {
   "cell_type": "markdown",
   "metadata": {},
   "source": [
    "URL : https://opencv-python-tutroals.readthedocs.io/en/latest/py_tutorials/py_feature2d/py_orb/py_orb.html"
   ]
  },
  {
   "cell_type": "code",
   "execution_count": null,
   "metadata": {},
   "outputs": [],
   "source": [
    "# import numpy as np\n",
    "# import cv2\n",
    "# from matplotlib import pyplot as plt\n",
    "\n",
    "# img = cv2.imread('maksssksksss25.png',0)\n",
    "\n",
    "# # Initiate STAR detector\n",
    "# orb = cv2.ORB()\n",
    "\n",
    "# # find the keypoints with ORB\n",
    "# kp = orb.detect(img, None)\n",
    "\n",
    "# # compute the descriptors with ORB\n",
    "# kp, des = orb.compute(img, kp)\n",
    "\n",
    "# # draw only keypoints location,not size and orientation\n",
    "# img2 = cv2.drawKeypoints(img,kp,color=(0,255,0), flags=0)\n",
    "# plt.imshow(img2)\n",
    "# plt.show()"
   ]
  },
  {
   "cell_type": "markdown",
   "metadata": {},
   "source": [
    "URL : https://blog.francium.tech/feature-detection-and-matching-with-opencv-5fd2394a590"
   ]
  },
  {
   "cell_type": "code",
   "execution_count": 4,
   "metadata": {},
   "outputs": [
    {
     "data": {
      "text/plain": [
       "-1"
      ]
     },
     "execution_count": 4,
     "metadata": {},
     "output_type": "execute_result"
    }
   ],
   "source": [
    "import cv2\n",
    "\n",
    "img = cv2.imread('maksssksksss843.png')\n",
    "gray_img = cv2.cvtColor(img, cv2.COLOR_BGR2GRAY)\n",
    "\n",
    "orb = cv2.ORB_create(nfeatures=2000)\n",
    "kp, des = orb.detectAndCompute(gray_img, None)\n",
    "\n",
    "kp_img = cv2.drawKeypoints(img, kp, None, color=(0, 255, 0), flags=0)\n",
    "\n",
    "cv2.imwrite(\"ORB_output.jpg\", kp_img)\n",
    "\n",
    "cv2.imshow('ORB', kp_img)\n",
    "cv2.waitKey()"
   ]
  }
 ],
 "metadata": {
  "kernelspec": {
   "display_name": "Python 3",
   "language": "python",
   "name": "python3"
  },
  "language_info": {
   "codemirror_mode": {
    "name": "ipython",
    "version": 3
   },
   "file_extension": ".py",
   "mimetype": "text/x-python",
   "name": "python",
   "nbconvert_exporter": "python",
   "pygments_lexer": "ipython3",
   "version": "3.8.3"
  }
 },
 "nbformat": 4,
 "nbformat_minor": 4
}
