{
 "cells": [
  {
   "cell_type": "markdown",
   "metadata": {},
   "source": [
    "# Edge Detection - Canny"
   ]
  },
  {
   "cell_type": "markdown",
   "metadata": {},
   "source": [
    "URL : https://opencv-python-tutroals.readthedocs.io/en/latest/py_tutorials/py_imgproc/py_canny/py_canny.html"
   ]
  },
  {
   "cell_type": "code",
   "execution_count": 4,
   "metadata": {},
   "outputs": [
    {
     "data": {
      "text/plain": [
       "['.ipynb_checkpoints', 'canny.ipynb', 'input']"
      ]
     },
     "execution_count": 4,
     "metadata": {},
     "output_type": "execute_result"
    }
   ],
   "source": [
    "import os\n",
    "\n",
    "os.listdir()"
   ]
  },
  {
   "cell_type": "code",
   "execution_count": 5,
   "metadata": {},
   "outputs": [
    {
     "data": {
      "text/plain": [
       "['maksssksksss140.png',\n",
       " 'maksssksksss17.png',\n",
       " 'maksssksksss271.png',\n",
       " 'maksssksksss324.png',\n",
       " 'maksssksksss348.png',\n",
       " 'maksssksksss48.png',\n",
       " 'maksssksksss513.png',\n",
       " 'maksssksksss532.png',\n",
       " 'maksssksksss55.png',\n",
       " 'maksssksksss640.png',\n",
       " 'maksssksksss69.png',\n",
       " 'maksssksksss813.png',\n",
       " 'maksssksksss832.png',\n",
       " 'maksssksksss843.png']"
      ]
     },
     "execution_count": 5,
     "metadata": {},
     "output_type": "execute_result"
    }
   ],
   "source": [
    "import glob\n",
    "\n",
    "image_list = []\n",
    "for name in glob.glob('./input/*.png'):\n",
    "    image_list.append(name[8:])\n",
    "    \n",
    "image_list"
   ]
  },
  {
   "cell_type": "code",
   "execution_count": 6,
   "metadata": {},
   "outputs": [],
   "source": [
    "import cv2\n",
    "\n",
    "def rgb_to_grey(img):\n",
    "    grey = cv2.cvtColor(img, cv2.COLOR_BGR2GRAY)\n",
    "\n",
    "    return grey"
   ]
  },
  {
   "cell_type": "code",
   "execution_count": 19,
   "metadata": {},
   "outputs": [],
   "source": [
    "import cv2\n",
    "\n",
    "def get_canny(dt_in):\n",
    "    \n",
    "    edges = cv2.Canny(dt_in, dt_in.shape[0], dt_in.shape[1])\n",
    "    \n",
    "    return edges"
   ]
  },
  {
   "cell_type": "code",
   "execution_count": 20,
   "metadata": {},
   "outputs": [
    {
     "name": "stdout",
     "output_type": "stream",
     "text": [
      "Directory./output created successfully\n"
     ]
    }
   ],
   "source": [
    "path = \"./output\"\n",
    "\n",
    "try:\n",
    "    os.makedirs(path, exist_ok = True)\n",
    "    print(\"Directory\" + path + \" created successfully\")\n",
    "except OSError as error:\n",
    "    print(\"Directory\" + path + \" can not be created\")"
   ]
  },
  {
   "cell_type": "code",
   "execution_count": 22,
   "metadata": {},
   "outputs": [],
   "source": [
    "import cv2\n",
    "import numpy as np\n",
    "from PIL import Image\n",
    "import matplotlib.pyplot as plt\n",
    "\n",
    "for file_name in image_list:\n",
    "    image = cv2.imread(\"./input/\" + file_name)\n",
    "    dt_in = rgb_to_grey(image)\n",
    "    \n",
    "    array = get_canny(dt_in)\n",
    "    dt_cn = Image.fromarray(array,'L')\n",
    "    dt_cn.save(\"./output/canny_\" + file_name)\n",
    "#     dt_sb.show()"
   ]
  },
  {
   "cell_type": "markdown",
   "metadata": {},
   "source": [
    "Contact me : www.athulmathew.com"
   ]
  },
  {
   "cell_type": "code",
   "execution_count": null,
   "metadata": {},
   "outputs": [],
   "source": []
  }
 ],
 "metadata": {
  "kernelspec": {
   "display_name": "Python 3",
   "language": "python",
   "name": "python3"
  },
  "language_info": {
   "codemirror_mode": {
    "name": "ipython",
    "version": 3
   },
   "file_extension": ".py",
   "mimetype": "text/x-python",
   "name": "python",
   "nbconvert_exporter": "python",
   "pygments_lexer": "ipython3",
   "version": "3.8.3"
  }
 },
 "nbformat": 4,
 "nbformat_minor": 4
}
