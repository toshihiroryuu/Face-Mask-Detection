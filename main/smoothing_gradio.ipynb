{
 "cells": [
  {
   "cell_type": "markdown",
   "metadata": {},
   "source": [
    "### GreyScale Convertion"
   ]
  },
  {
   "cell_type": "code",
   "execution_count": 1,
   "metadata": {},
   "outputs": [],
   "source": [
    "import cv2\n",
    "\n",
    "def rgb_to_grey(img):\n",
    "    grey = cv2.cvtColor(img, cv2.COLOR_BGR2GRAY)\n",
    "\n",
    "    return grey"
   ]
  },
  {
   "cell_type": "markdown",
   "metadata": {},
   "source": [
    "### Smoothing - Median Filtering"
   ]
  },
  {
   "cell_type": "code",
   "execution_count": 2,
   "metadata": {},
   "outputs": [],
   "source": [
    "import numpy as np\n",
    "from PIL import Image\n",
    "\n",
    "# Filter with kerel size 3\n",
    "def get_median(dt):\n",
    "#     med_lst = []\n",
    "#     for i in range(dt.shape[0]):\n",
    "#         for j in range(dt.shape[1]):\n",
    "\n",
    "#             if (i != 0 and i < dt.shape[0]-1) and (j != 0 and j< dt.shape[1]-1):\n",
    "\n",
    "#                 ngh_lst = [ dt[i-1][j-1], dt[i][j-1], dt[i+1][j-1], \n",
    "#                            dt[i+1][j], dt[i+1][j+1], dt[i][j+1], \n",
    "#                            dt[i-1][j+1], dt[i-1][j] ]\n",
    "\n",
    "#                 n = len(ngh_lst)\n",
    "#                 ngh_lst.sort()\n",
    "\n",
    "#                 if n % 2 == 0:\n",
    "#                     median1 = ngh_lst[n//2]\n",
    "#                     median2 = ngh_lst[n//2 - 1]\n",
    "#                     median = (median1 + median2)/2\n",
    "#                 else:\n",
    "#                     median = ngh_lst[n//2]\n",
    "\n",
    "#                 med_lst.append(median)\n",
    "\n",
    "#             else:\n",
    "#                 med_lst.append(dt[i][j])\n",
    "\n",
    "#     array = np.reshape(med_lst, (dt.shape[0], dt.shape[1]))\n",
    "#     array = np.array(array, dtype = np.uint8)\n",
    "\n",
    "    # median filtering in cv2\n",
    "    # kernel size is 5\n",
    "    array = cv2.medianBlur(dt, 5)\n",
    "    \n",
    "    return array"
   ]
  },
  {
   "cell_type": "markdown",
   "metadata": {},
   "source": [
    "### Smoothing - Mode Filtering"
   ]
  },
  {
   "cell_type": "code",
   "execution_count": 3,
   "metadata": {},
   "outputs": [],
   "source": [
    "import numpy as np\n",
    "from PIL import Image\n",
    "import statistics \n",
    "\n",
    "def get_mode(dt):\n",
    "    mod_lst = []\n",
    "    for i in range(dt.shape[0]):\n",
    "        for j in range(dt.shape[1]):\n",
    "\n",
    "            if (i != 0 and i < dt.shape[0]-1) and (j != 0 and j< dt.shape[1]-1):\n",
    "\n",
    "                ngh_lst = [ dt[i-1][j-1], dt[i][j-1], dt[i+1][j-1], \n",
    "                           dt[i+1][j], dt[i+1][j+1], dt[i][j+1], \n",
    "                           dt[i-1][j+1], dt[i-1][j] ]\n",
    "\n",
    "                mode = statistics.mode(ngh_lst)\n",
    "                mod_lst.append(mode)\n",
    "\n",
    "            else:\n",
    "                mod_lst.append(dt[i][j])\n",
    "\n",
    "    array = np.reshape(mod_lst, (dt.shape[0], dt.shape[1]))\n",
    "    array = np.array(array, dtype = np.uint8)\n",
    "    return array"
   ]
  },
  {
   "cell_type": "markdown",
   "metadata": {},
   "source": [
    "### Smoothing - Average Filtering"
   ]
  },
  {
   "cell_type": "code",
   "execution_count": 4,
   "metadata": {},
   "outputs": [],
   "source": [
    "import numpy as np\n",
    "from PIL import Image\n",
    "import statistics \n",
    "\n",
    "def get_average(dt_in):\n",
    "    \n",
    "    filter_h, filter_w = 3, 3\n",
    "\n",
    "    filter_coeff = [[1, 1, 1], \n",
    "                    [1, 1, 1], \n",
    "                    [1, 1, 1]]\n",
    "\n",
    "    pad_h, pad_w = int((filter_h-1)/2), int((filter_w-1)/2)\n",
    "\n",
    "    data_h = int(dt_in.shape[0]+ (2 * pad_h))\n",
    "    data_w = int(dt_in.shape[1] + (2 * pad_w))\n",
    "\n",
    "    data = np.zeros([data_h , data_w])\n",
    "\n",
    "    data[pad_h:int(data_h - pad_h), pad_w:int(data_w - pad_w)] = dt_in\n",
    "\n",
    "    out_lst = []\n",
    "    for i in range(dt_in.shape[0]):\n",
    "        for j in range(dt_in.shape[1]):\n",
    "            out_lst.append(np.sum((data[i:i + filter_h, j:j + filter_w])*filter_coeff)/(9))\n",
    "\n",
    "    array = np.reshape(out_lst, (dt_in.shape[0], dt_in.shape[1]))\n",
    "    array = np.array(array, dtype = np.uint8)\n",
    "    \n",
    "    return array"
   ]
  },
  {
   "cell_type": "markdown",
   "metadata": {},
   "source": [
    "### Smoothing - Weighted Average Filtering"
   ]
  },
  {
   "cell_type": "code",
   "execution_count": 5,
   "metadata": {},
   "outputs": [],
   "source": [
    "import cv2\n",
    "import numpy as np\n",
    "from PIL import Image\n",
    "import statistics \n",
    "\n",
    "def get_waverage(dt_in):\n",
    "    \n",
    "    filter_h, filter_w = 3, 3\n",
    "\n",
    "    filter_coeff = [[1, 2, 1], \n",
    "                    [2, 4, 2], \n",
    "                    [1, 2, 1]]\n",
    "\n",
    "    pad_h, pad_w = int((filter_h-1)/2), int((filter_w-1)/2)\n",
    "\n",
    "    data_h = int(dt_in.shape[0]+ (2 * pad_h))\n",
    "    data_w = int(dt_in.shape[1] + (2 * pad_w))\n",
    "\n",
    "    data = np.zeros([data_h , data_w])\n",
    "\n",
    "    data[pad_h:int(data_h - pad_h), pad_w:int(data_w - pad_w)] = dt_in\n",
    "\n",
    "    out_lst = []\n",
    "    for i in range(dt_in.shape[0]):\n",
    "        for j in range(dt_in.shape[1]):\n",
    "            out_lst.append(np.sum((data[i:i + filter_h, j:j + filter_w])*filter_coeff)/(16))\n",
    "\n",
    "    array = np.reshape(out_lst, (dt_in.shape[0], dt_in.shape[1]))\n",
    "    array = np.array(array, dtype = np.uint8)\n",
    "    \n",
    "    return array"
   ]
  },
  {
   "cell_type": "markdown",
   "metadata": {},
   "source": [
    "### Gario UI"
   ]
  },
  {
   "cell_type": "code",
   "execution_count": 6,
   "metadata": {},
   "outputs": [],
   "source": [
    "def choice(image1, smoot):\n",
    "    \n",
    "    print(\"Operation is \", smoot)\n",
    "    \n",
    "    image2 = image1\n",
    "    \n",
    "    stat_out = \" \"\n",
    "    \n",
    "    if smoot == \"Median\":\n",
    "        \n",
    "        med_img = get_median(rgb_to_grey(image1))\n",
    "        image2 = Image.fromarray(med_img,'L')\n",
    "        stat_out = \"Median Filter\"\n",
    "\n",
    "    elif smoot == \"Mode\":\n",
    "        \n",
    "        mod_img = get_mode(rgb_to_grey(image1))\n",
    "        image2 = Image.fromarray(mod_img,'L')\n",
    "        stat_out = \"Mode Filter\"\n",
    "        \n",
    "    elif smoot == \"Average\":\n",
    "        \n",
    "        avg_img = get_average(rgb_to_grey(image1))\n",
    "        image2 = Image.fromarray(avg_img,'L')\n",
    "        stat_out = \"Average Filter\"\n",
    "        \n",
    "    elif smoot == \"Weighted Avg.\":\n",
    "        \n",
    "        wavg_img = get_waverage(rgb_to_grey(image1))\n",
    "        image2 = Image.fromarray(wavg_img,'L')\n",
    "        stat_out = \"Weighted Avg. Filter\"\n",
    "        \n",
    "  \n",
    "    return image2, stat_out"
   ]
  },
  {
   "cell_type": "code",
   "execution_count": 7,
   "metadata": {
    "scrolled": true
   },
   "outputs": [
    {
     "name": "stdout",
     "output_type": "stream",
     "text": [
      "IMPORTANT: You are using gradio version 1.4.0, however version 1.5.0 is available, please upgrade.\n",
      "--------\n",
      "Running locally at: http://127.0.0.1:7869/\n",
      "To get a public link for a hosted model, set Share=True\n",
      "Interface loading below...\n"
     ]
    },
    {
     "data": {
      "text/html": [
       "\n",
       "        <iframe\n",
       "            width=\"1000\"\n",
       "            height=\"500\"\n",
       "            src=\"http://127.0.0.1:7869/\"\n",
       "            frameborder=\"0\"\n",
       "            allowfullscreen\n",
       "        ></iframe>\n",
       "        "
      ],
      "text/plain": [
       "<IPython.lib.display.IFrame at 0x23c51c748b0>"
      ]
     },
     "metadata": {},
     "output_type": "display_data"
    },
    {
     "data": {
      "text/plain": [
       "(<Flask 'gradio.networking'>, 'http://127.0.0.1:7869/', None)"
      ]
     },
     "execution_count": 7,
     "metadata": {},
     "output_type": "execute_result"
    },
    {
     "name": "stdout",
     "output_type": "stream",
     "text": [
      "Operation is  Median\n",
      "Operation is  Median\n",
      "Operation is  Median\n",
      "Operation is  Median\n",
      "Operation is  Median\n",
      "Operation is  Median\n",
      "Operation is  Median\n",
      "Operation is  Median\n",
      "Operation is  Median\n",
      "Operation is  Median\n",
      "Operation is  Median\n",
      "Operation is  Median\n",
      "Operation is  Median\n",
      "Operation is  Median\n",
      "Operation is  Median\n",
      "Operation is  Median\n",
      "Operation is  Median\n",
      "Operation is  Median\n",
      "Operation is  Median\n",
      "Operation is  Median\n",
      "Operation is  Median\n",
      "Operation is  Median\n",
      "Operation is  Median\n",
      "Operation is  Median\n",
      "Operation is  Median\n",
      "Operation is  Median\n",
      "Operation is  Median\n",
      "Operation is  Median\n",
      "Operation is  Mode\n",
      "Operation is  Mode\n",
      "Operation is  Average\n",
      "Operation is  Average\n",
      "Operation is  Weighted Avg.\n",
      "Operation is  Weighted Avg.\n",
      "Operation is  Weighted Avg.\n",
      "Operation is  Weighted Avg.\n",
      "Operation is  Weighted Avg.\n",
      "Operation is  Weighted Avg.\n",
      "Operation is  Weighted Avg.\n",
      "Operation is  Weighted Avg.\n",
      "Operation is  Weighted Avg.\n"
     ]
    }
   ],
   "source": [
    "import gradio as gr\n",
    "\n",
    "img = gr.inputs.Image()\n",
    "\n",
    "title = \"Face Mask - Spatial Domain Analysis(Smoothing)\"\n",
    "\n",
    "image1 = gr.inputs.Image(shape=(299, 299), type=\"numpy\")\n",
    "smoot = gr.inputs.Radio(['Median', 'Mode', \"Average\", \"Weighted Avg.\"], label=\"Smoothing\")\n",
    "\n",
    "stat_out = gr.outputs.Textbox(type=\"auto\", label=\"Statistics\")\n",
    "image2 = gr.outputs.Image(type=\"numpy\", label=\"Output\")\n",
    "\n",
    "stat_out = gr.outputs.Textbox(type=\"auto\", label=\"Comment\")\n",
    "\n",
    "gr.Interface(choice, inputs = [image1, smoot],   \n",
    "             outputs = [image2, stat_out], \n",
    "             title=title, \n",
    "             live=True).launch(share=False)"
   ]
  },
  {
   "cell_type": "markdown",
   "metadata": {},
   "source": [
    "Contact me : www.athulmathew.com"
   ]
  }
 ],
 "metadata": {
  "kernelspec": {
   "display_name": "Python 3",
   "language": "python",
   "name": "python3"
  },
  "language_info": {
   "codemirror_mode": {
    "name": "ipython",
    "version": 3
   },
   "file_extension": ".py",
   "mimetype": "text/x-python",
   "name": "python",
   "nbconvert_exporter": "python",
   "pygments_lexer": "ipython3",
   "version": "3.8.3"
  }
 },
 "nbformat": 4,
 "nbformat_minor": 4
}
