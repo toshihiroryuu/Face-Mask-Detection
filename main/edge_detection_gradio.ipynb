{
 "cells": [
  {
   "cell_type": "markdown",
   "metadata": {},
   "source": [
    "### GreyScale Convertion"
   ]
  },
  {
   "cell_type": "code",
   "execution_count": 1,
   "metadata": {},
   "outputs": [],
   "source": [
    "import cv2\n",
    "\n",
    "def rgb_to_grey(img):\n",
    "    grey = cv2.cvtColor(img, cv2.COLOR_BGR2GRAY)\n",
    "\n",
    "    return grey"
   ]
  },
  {
   "cell_type": "markdown",
   "metadata": {},
   "source": [
    "### Edge Detection - Sobels Filter"
   ]
  },
  {
   "cell_type": "code",
   "execution_count": 2,
   "metadata": {},
   "outputs": [],
   "source": [
    "import numpy as np\n",
    "from PIL import Image\n",
    "\n",
    "def get_sobel(dt_in):\n",
    "    filter_h, filter_w = 3, 3\n",
    "\n",
    "    filter_coeffx = [[-1, 0, 1], \n",
    "                    [-2, 0, 2], \n",
    "                    [-1, 0, 1]]\n",
    "\n",
    "    filter_coeffy = [[-1, -2, -1], \n",
    "                    [0, 0, 0], \n",
    "                    [1, 2, 1]]\n",
    "\n",
    "    pad_h, pad_w = int((filter_h-1)/2), int((filter_w-1)/2)\n",
    "\n",
    "    data_h = int(dt_in.shape[0]+ (2 * pad_h))\n",
    "    data_w = int(dt_in.shape[1] + (2 * pad_w))\n",
    "\n",
    "    data = np.zeros([data_h , data_w])\n",
    "\n",
    "    data[pad_h:int(data_h - pad_h), pad_w:int(data_w - pad_w)] = dt_in\n",
    "\n",
    "    out_lst = []\n",
    "    out_lstx = []\n",
    "    out_lsty = []\n",
    "    for i in range(dt_in.shape[0]):\n",
    "        for j in range(dt_in.shape[1]):\n",
    "            out_lstx.append(np.sum((data[i:i + filter_h, j:j + filter_w])*filter_coeffx)/(filter_h*filter_w))\n",
    "            out_lsty.append(np.sum((data[i:i + filter_h, j:j + filter_w])*filter_coeffy)/(filter_h*filter_w))\n",
    "\n",
    "    out_lst = [ abs(i) + abs(j) for i,j in zip(out_lstx, out_lsty) ]\n",
    "\n",
    "    array = np.reshape(out_lst, (dt_in.shape[0], dt_in.shape[1]))\n",
    "    array = np.array(array, dtype = np.uint8)\n",
    "    \n",
    "    return array"
   ]
  },
  {
   "cell_type": "markdown",
   "metadata": {},
   "source": [
    "### Edge Detection - Roberts Filter"
   ]
  },
  {
   "cell_type": "code",
   "execution_count": 3,
   "metadata": {},
   "outputs": [],
   "source": [
    "import numpy as np\n",
    "from PIL import Image\n",
    "\n",
    "def get_roberts(dt_in):\n",
    "    filter_h, filter_w = 2, 2\n",
    "\n",
    "    filter_coeffx = [[1, 0], \n",
    "                    [0, -1]]\n",
    "\n",
    "    filter_coeffy = [[0, 1], \n",
    "                    [-1, 0]]\n",
    "\n",
    "    pad_h, pad_w = int((filter_h-1)/2), int((filter_w-1)/2)\n",
    "\n",
    "    data_h = int(dt_in.shape[0]+ (2 * pad_h))\n",
    "    data_w = int(dt_in.shape[1] + (2 * pad_w))\n",
    "\n",
    "    data = np.zeros([data_h , data_w])\n",
    "\n",
    "    data[pad_h:int(data_h - pad_h), pad_w:int(data_w - pad_w)] = dt_in\n",
    "\n",
    "    out_lst = []\n",
    "    out_lstx = []\n",
    "    out_lsty = []\n",
    "    for i in range(dt_in.shape[0]):\n",
    "        for j in range(dt_in.shape[1]):\n",
    "            out_lstx.append(np.sum((data[i:i + filter_h, j:j + filter_w])*filter_coeffx)/(filter_h*filter_w))\n",
    "            out_lsty.append(np.sum((data[i:i + filter_h, j:j + filter_w])*filter_coeffy)/(filter_h*filter_w))\n",
    "\n",
    "    out_lst = [ abs(i) + abs(j) for i,j in zip(out_lstx, out_lsty) ]\n",
    "\n",
    "    array = np.reshape(out_lst, (dt_in.shape[0], dt_in.shape[1]))\n",
    "    array = np.array(array, dtype = np.uint8)\n",
    "    \n",
    "    return array"
   ]
  },
  {
   "cell_type": "markdown",
   "metadata": {},
   "source": [
    "### Edge Detection - Scharr Filter"
   ]
  },
  {
   "cell_type": "code",
   "execution_count": 4,
   "metadata": {},
   "outputs": [],
   "source": [
    "import numpy as np\n",
    "from PIL import Image\n",
    "\n",
    "def get_scharr(dt_in):\n",
    "    filter_h, filter_w = 3, 3\n",
    "\n",
    "    filter_coeffx = [[3, 0, -3], \n",
    "                    [10, 0, -10], \n",
    "                    [3, 0, -3]]\n",
    "\n",
    "    filter_coeffy = [[3, 10, 3], \n",
    "                    [0, 0, 0], \n",
    "                    [-3, -10, -3]]\n",
    "\n",
    "    pad_h, pad_w = int((filter_h-1)/2), int((filter_w-1)/2)\n",
    "\n",
    "    data_h = int(dt_in.shape[0]+ (2 * pad_h))\n",
    "    data_w = int(dt_in.shape[1] + (2 * pad_w))\n",
    "\n",
    "    data = np.zeros([data_h , data_w])\n",
    "\n",
    "    data[pad_h:int(data_h - pad_h), pad_w:int(data_w - pad_w)] = dt_in\n",
    "\n",
    "    out_lst = []\n",
    "    out_lstx = []\n",
    "    out_lsty = []\n",
    "    for i in range(dt_in.shape[0]):\n",
    "        for j in range(dt_in.shape[1]):\n",
    "            out_lstx.append(np.sum((data[i:i + filter_h, j:j + filter_w])*filter_coeffx)/(filter_h*filter_w))\n",
    "            out_lsty.append(np.sum((data[i:i + filter_h, j:j + filter_w])*filter_coeffy)/(filter_h*filter_w))\n",
    "\n",
    "    out_lst = [ abs(i) + abs(j) for i,j in zip(out_lstx, out_lsty) ]\n",
    "\n",
    "    array = np.reshape(out_lst, (dt_in.shape[0], dt_in.shape[1]))\n",
    "    array = np.array(array, dtype = np.uint8)\n",
    "    \n",
    "    return array"
   ]
  },
  {
   "cell_type": "markdown",
   "metadata": {},
   "source": [
    "### Edge Detection - Canny"
   ]
  },
  {
   "cell_type": "code",
   "execution_count": 5,
   "metadata": {},
   "outputs": [],
   "source": [
    "import cv2\n",
    "import numpy as np\n",
    "from PIL import Image\n",
    "\n",
    "def get_canny(dt_in):\n",
    "    \n",
    "    edges = cv2.Canny(dt_in, dt_in.shape[0], dt_in.shape[1])\n",
    "    \n",
    "    return edges"
   ]
  },
  {
   "cell_type": "markdown",
   "metadata": {},
   "source": [
    "### Gario UI"
   ]
  },
  {
   "cell_type": "code",
   "execution_count": 15,
   "metadata": {},
   "outputs": [],
   "source": [
    "def choice(image1, edge):\n",
    "    \n",
    "    print(\"Operation is \", edge)\n",
    "    \n",
    "    image2 = image1\n",
    "    \n",
    "    stat_out = \" \"\n",
    "    \n",
    "    if edge == \"Sobels\":\n",
    "        \n",
    "        sb_img = get_sobel(rgb_to_grey(image1))\n",
    "        image2 = Image.fromarray(sb_img,'L')\n",
    "        stat_out = \"Sobels Filter\"\n",
    "\n",
    "    elif edge == \"Roberts\":\n",
    "        \n",
    "        rb_img = get_roberts(rgb_to_grey(image1))\n",
    "        image2 = Image.fromarray(rb_img,'L')\n",
    "        stat_out = \"Roberts Filter\"\n",
    "\n",
    "    elif edge == \"Scharr\":\n",
    "        \n",
    "        sc_img = get_scharr(rgb_to_grey(image1))\n",
    "        image2 = Image.fromarray(sc_img,'L')\n",
    "        stat_out = \"Scharr Filter\"\n",
    "\n",
    "    elif edge == \"Canny\":\n",
    "        \n",
    "        cn_img = get_canny(rgb_to_grey(image1))\n",
    "        image2 = Image.fromarray(cn_img,'L')\n",
    "        stat_out = \"Canny Edge\"\n",
    "\n",
    "\n",
    "  \n",
    "    return image2, stat_out"
   ]
  },
  {
   "cell_type": "code",
   "execution_count": 18,
   "metadata": {},
   "outputs": [
    {
     "name": "stdout",
     "output_type": "stream",
     "text": [
      "IMPORTANT: You are using gradio version 1.4.0, however version 1.5.0 is available, please upgrade.\n",
      "--------\n",
      "Running locally at: http://127.0.0.1:7868/\n",
      "To get a public link for a hosted model, set Share=True\n",
      "Interface loading below...\n"
     ]
    },
    {
     "data": {
      "text/html": [
       "\n",
       "        <iframe\n",
       "            width=\"1000\"\n",
       "            height=\"500\"\n",
       "            src=\"http://127.0.0.1:7868/\"\n",
       "            frameborder=\"0\"\n",
       "            allowfullscreen\n",
       "        ></iframe>\n",
       "        "
      ],
      "text/plain": [
       "<IPython.lib.display.IFrame at 0x20c65191670>"
      ]
     },
     "metadata": {},
     "output_type": "display_data"
    },
    {
     "data": {
      "text/plain": [
       "(<Flask 'gradio.networking'>, 'http://127.0.0.1:7868/', None)"
      ]
     },
     "execution_count": 18,
     "metadata": {},
     "output_type": "execute_result"
    },
    {
     "name": "stdout",
     "output_type": "stream",
     "text": [
      "Operation is  Sobels\n",
      "Operation is  Sobels\n",
      "Operation is  Roberts\n",
      "Operation is  Roberts\n",
      "Operation is  Scharr\n",
      "Operation is  Scharr\n",
      "Operation is  Canny\n",
      "Operation is  Canny\n",
      "Operation is  Canny\n",
      "Operation is  Canny\n",
      "Operation is  Canny\n",
      "Operation is  Canny\n",
      "Operation is  Canny\n",
      "Operation is  Canny\n",
      "Operation is  Canny\n",
      "Operation is  Canny\n",
      "Operation is  Canny\n",
      "Operation is  Canny\n",
      "Operation is  Canny\n",
      "Operation is  Canny\n",
      "Operation is  Canny\n",
      "Operation is  Canny\n",
      "Operation is  Canny\n",
      "Operation is  Canny\n",
      "Operation is  Canny\n",
      "Operation is  Canny\n",
      "Operation is  Canny\n",
      "Operation is  Canny\n",
      "Operation is  Canny\n",
      "Operation is  Canny\n",
      "Operation is  Canny\n",
      "Operation is  Canny\n",
      "Operation is  Canny\n",
      "Operation is  Canny\n",
      "Operation is  Canny\n",
      "Operation is  Canny\n",
      "Operation is  Canny\n",
      "Operation is  Canny\n",
      "Operation is  Canny\n",
      "Operation is  Canny\n",
      "Operation is  Canny\n",
      "Operation is  Canny\n",
      "Operation is  Canny\n",
      "Operation is  Canny\n",
      "Operation is  Canny\n",
      "Operation is  Canny\n",
      "Operation is  Canny\n",
      "Operation is  Canny\n",
      "Operation is  Canny\n",
      "Operation is  Canny\n",
      "Operation is  Canny\n",
      "Operation is  Canny\n",
      "Operation is  Canny\n",
      "Operation is  Canny\n",
      "Operation is  Canny\n",
      "Operation is  Canny\n",
      "Operation is  Canny\n",
      "Operation is  Canny\n",
      "Operation is  Canny\n",
      "Operation is  Canny\n",
      "Operation is  Canny\n",
      "Operation is  Canny\n",
      "Operation is  Canny\n",
      "Operation is  Canny\n",
      "Operation is  Canny\n",
      "Operation is  Canny\n",
      "Operation is  Canny\n",
      "Operation is  Canny\n",
      "Operation is  Canny\n",
      "Operation is  Canny\n",
      "Operation is  Canny\n",
      "Operation is  Canny\n",
      "Operation is  Canny\n",
      "Operation is  Canny\n",
      "Operation is  Canny\n",
      "Operation is  Canny\n",
      "Operation is  Canny\n",
      "Operation is  Canny\n",
      "Operation is  Canny\n",
      "Operation is  Canny\n",
      "Operation is  Canny\n",
      "Operation is  Canny\n",
      "Operation is  Canny\n",
      "Operation is  Canny\n",
      "Operation is  Canny\n",
      "Operation is  Canny\n",
      "Operation is  Canny\n",
      "Operation is  Canny\n",
      "Operation is  Canny\n",
      "Operation is  Canny\n",
      "Operation is  Canny\n",
      "Operation is  Canny\n",
      "Operation is  Canny\n",
      "Operation is  Canny\n",
      "Operation is  Canny\n",
      "Operation is  Canny\n",
      "Operation is  Canny\n",
      "Operation is  Canny\n",
      "Operation is  Canny\n",
      "Operation is  Canny\n",
      "Operation is  Canny\n",
      "Operation is  Canny\n",
      "Operation is  Canny\n",
      "Operation is  Canny\n",
      "Operation is  Canny\n",
      "Operation is  Canny\n"
     ]
    }
   ],
   "source": [
    "import gradio as gr\n",
    "\n",
    "img = gr.inputs.Image()\n",
    "\n",
    "title = \"Face Mask - Spatial Domain Analysis(Edge Detection)\"\n",
    "\n",
    "image1 = gr.inputs.Image(shape=(299, 299), type=\"numpy\")\n",
    "edge = gr.inputs.Radio([\"Sobels\", \"Roberts\", \"Scharr\", \"Canny\"], type=\"value\", label=\"Edge Detection\")\n",
    "\n",
    "stat_out = gr.outputs.Textbox(type=\"auto\", label=\"Statistics\")\n",
    "image2 = gr.outputs.Image(type=\"numpy\", label=\"Output\")\n",
    "\n",
    "stat_out = gr.outputs.Textbox(type=\"auto\", label=\"Comment\")\n",
    "\n",
    "gr.Interface(choice, inputs = [image1, edge],   \n",
    "             outputs = [image2, stat_out], \n",
    "             title=title, \n",
    "             live=True).launch(share=False)"
   ]
  },
  {
   "cell_type": "markdown",
   "metadata": {},
   "source": [
    "Contact me : www.athulmathew.com"
   ]
  }
 ],
 "metadata": {
  "kernelspec": {
   "display_name": "Python 3",
   "language": "python",
   "name": "python3"
  },
  "language_info": {
   "codemirror_mode": {
    "name": "ipython",
    "version": 3
   },
   "file_extension": ".py",
   "mimetype": "text/x-python",
   "name": "python",
   "nbconvert_exporter": "python",
   "pygments_lexer": "ipython3",
   "version": "3.8.3"
  }
 },
 "nbformat": 4,
 "nbformat_minor": 4
}
