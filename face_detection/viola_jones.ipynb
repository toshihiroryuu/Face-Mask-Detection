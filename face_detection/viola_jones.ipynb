{
 "cells": [
  {
   "cell_type": "markdown",
   "metadata": {},
   "source": [
    "URL : https://realpython.com/traditional-face-detection-python/"
   ]
  },
  {
   "cell_type": "code",
   "execution_count": 39,
   "metadata": {},
   "outputs": [
    {
     "data": {
      "text/plain": [
       "<CascadeClassifier 00000210C66A9090>"
      ]
     },
     "execution_count": 39,
     "metadata": {},
     "output_type": "execute_result"
    }
   ],
   "source": [
    "import cv2 as cv\n",
    "\n",
    "# Load the classifier and create a cascade object for face detection\n",
    "\n",
    "face_cascade = cv.CascadeClassifier('haarcascade_frontalface_alt.xml')\n",
    "face_cascade"
   ]
  },
  {
   "cell_type": "code",
   "execution_count": 40,
   "metadata": {},
   "outputs": [
    {
     "data": {
      "text/plain": [
       "['maksssksksss21.png',\n",
       " 'maksssksksss48.png',\n",
       " 'maksssksksss487.png',\n",
       " 'maksssksksss51.png',\n",
       " 'maksssksksss772.png',\n",
       " 'maksssksksss809.png',\n",
       " 'viola_maksssksksss21.png',\n",
       " 'viola_maksssksksss48.png',\n",
       " 'viola_maksssksksss487.png',\n",
       " 'viola_maksssksksss51.png',\n",
       " 'viola_maksssksksss809.png']"
      ]
     },
     "execution_count": 40,
     "metadata": {},
     "output_type": "execute_result"
    }
   ],
   "source": [
    "import glob\n",
    "\n",
    "image_list = []\n",
    "for name in glob.glob('./*.png'):\n",
    "    image_list.append(name[2:])\n",
    "    \n",
    "image_list"
   ]
  },
  {
   "cell_type": "code",
   "execution_count": 41,
   "metadata": {},
   "outputs": [
    {
     "name": "stdout",
     "output_type": "stream",
     "text": [
      "viola_maksssksksss21.png Successfully saved\n",
      "viola_maksssksksss48.png Successfully saved\n",
      "viola_maksssksksss487.png Successfully saved\n",
      "viola_maksssksksss51.png Successfully saved\n",
      "viola_maksssksksss772.png Successfully saved\n",
      "viola_maksssksksss809.png Successfully saved\n",
      "viola_viola_maksssksksss21.png Successfully saved\n",
      "viola_viola_maksssksksss48.png Successfully saved\n",
      "viola_viola_maksssksksss487.png Successfully saved\n",
      "viola_viola_maksssksksss51.png Successfully saved\n",
      "viola_viola_maksssksksss809.png Successfully saved\n"
     ]
    }
   ],
   "source": [
    "import cv2\n",
    "import numpy as np\n",
    "from PIL import Image\n",
    "import matplotlib.pyplot as plt\n",
    "\n",
    "for file_name in image_list:\n",
    "    original_image = cv2.imread(file_name)\n",
    "    grayscale_image = cv.cvtColor(original_image, cv.COLOR_BGR2GRAY)\n",
    "    \n",
    "    detected_faces = face_cascade.detectMultiScale(grayscale_image)\n",
    "    \n",
    "    for (column, row, width, height) in detected_faces:\n",
    "        cv.rectangle(\n",
    "            original_image,\n",
    "            (column, row),\n",
    "            (column + width, row + height),\n",
    "            (0, 255, 0),\n",
    "            2\n",
    "        )\n",
    "    \n",
    "    file_name = \"viola_\" + file_name\n",
    "    cv2.imwrite(file_name, original_image)\n",
    "    print(file_name, \"Successfully saved\")"
   ]
  }
 ],
 "metadata": {
  "kernelspec": {
   "display_name": "Python 3",
   "language": "python",
   "name": "python3"
  },
  "language_info": {
   "codemirror_mode": {
    "name": "ipython",
    "version": 3
   },
   "file_extension": ".py",
   "mimetype": "text/x-python",
   "name": "python",
   "nbconvert_exporter": "python",
   "pygments_lexer": "ipython3",
   "version": "3.8.3"
  }
 },
 "nbformat": 4,
 "nbformat_minor": 4
}
